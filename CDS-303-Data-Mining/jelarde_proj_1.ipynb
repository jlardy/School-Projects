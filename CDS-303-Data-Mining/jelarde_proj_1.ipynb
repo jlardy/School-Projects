{
 "metadata": {
  "language_info": {
   "codemirror_mode": {
    "name": "ipython",
    "version": 3
   },
   "file_extension": ".py",
   "mimetype": "text/x-python",
   "name": "python",
   "nbconvert_exporter": "python",
   "pygments_lexer": "ipython3",
   "version": "3.7.8-final"
  },
  "orig_nbformat": 2,
  "kernelspec": {
   "name": "Python 3.7.8 64-bit ('CDS_303_Working': conda)",
   "display_name": "Python 3.7.8 64-bit ('CDS_303_Working': conda)",
   "metadata": {
    "interpreter": {
     "hash": "20b61b836fb4960d2babdf433df916bae4facf138e027c84abdf92cb982f43e1"
    }
   }
  }
 },
 "nbformat": 4,
 "nbformat_minor": 2,
 "cells": [
  {
   "cell_type": "code",
   "execution_count": 1,
   "metadata": {},
   "outputs": [
    {
     "output_type": "execute_result",
     "data": {
      "text/plain": "       0    1    2    3               4\n0    5.1  3.5  1.4  0.2     Iris-setosa\n1    4.9  3.0  1.4  0.2     Iris-setosa\n2    4.7  3.2  1.3  0.2     Iris-setosa\n3    4.6  3.1  1.5  0.2     Iris-setosa\n4    5.4  3.9  1.7  0.4     Iris-setosa\n..   ...  ...  ...  ...             ...\n130  6.7  3.3  5.7  2.5  Iris-virginica\n131  6.7  3.0  5.2  2.3  Iris-virginica\n132  6.3  2.5  5.0  1.9  Iris-virginica\n133  6.5  3.0  5.2  2.0  Iris-virginica\n134  5.9  3.0  5.1  1.8  Iris-virginica\n\n[135 rows x 5 columns]",
      "text/html": "<div>\n<style scoped>\n    .dataframe tbody tr th:only-of-type {\n        vertical-align: middle;\n    }\n\n    .dataframe tbody tr th {\n        vertical-align: top;\n    }\n\n    .dataframe thead th {\n        text-align: right;\n    }\n</style>\n<table border=\"1\" class=\"dataframe\">\n  <thead>\n    <tr style=\"text-align: right;\">\n      <th></th>\n      <th>0</th>\n      <th>1</th>\n      <th>2</th>\n      <th>3</th>\n      <th>4</th>\n    </tr>\n  </thead>\n  <tbody>\n    <tr>\n      <th>0</th>\n      <td>5.1</td>\n      <td>3.5</td>\n      <td>1.4</td>\n      <td>0.2</td>\n      <td>Iris-setosa</td>\n    </tr>\n    <tr>\n      <th>1</th>\n      <td>4.9</td>\n      <td>3.0</td>\n      <td>1.4</td>\n      <td>0.2</td>\n      <td>Iris-setosa</td>\n    </tr>\n    <tr>\n      <th>2</th>\n      <td>4.7</td>\n      <td>3.2</td>\n      <td>1.3</td>\n      <td>0.2</td>\n      <td>Iris-setosa</td>\n    </tr>\n    <tr>\n      <th>3</th>\n      <td>4.6</td>\n      <td>3.1</td>\n      <td>1.5</td>\n      <td>0.2</td>\n      <td>Iris-setosa</td>\n    </tr>\n    <tr>\n      <th>4</th>\n      <td>5.4</td>\n      <td>3.9</td>\n      <td>1.7</td>\n      <td>0.4</td>\n      <td>Iris-setosa</td>\n    </tr>\n    <tr>\n      <th>...</th>\n      <td>...</td>\n      <td>...</td>\n      <td>...</td>\n      <td>...</td>\n      <td>...</td>\n    </tr>\n    <tr>\n      <th>130</th>\n      <td>6.7</td>\n      <td>3.3</td>\n      <td>5.7</td>\n      <td>2.5</td>\n      <td>Iris-virginica</td>\n    </tr>\n    <tr>\n      <th>131</th>\n      <td>6.7</td>\n      <td>3.0</td>\n      <td>5.2</td>\n      <td>2.3</td>\n      <td>Iris-virginica</td>\n    </tr>\n    <tr>\n      <th>132</th>\n      <td>6.3</td>\n      <td>2.5</td>\n      <td>5.0</td>\n      <td>1.9</td>\n      <td>Iris-virginica</td>\n    </tr>\n    <tr>\n      <th>133</th>\n      <td>6.5</td>\n      <td>3.0</td>\n      <td>5.2</td>\n      <td>2.0</td>\n      <td>Iris-virginica</td>\n    </tr>\n    <tr>\n      <th>134</th>\n      <td>5.9</td>\n      <td>3.0</td>\n      <td>5.1</td>\n      <td>1.8</td>\n      <td>Iris-virginica</td>\n    </tr>\n  </tbody>\n</table>\n<p>135 rows × 5 columns</p>\n</div>"
     },
     "metadata": {},
     "execution_count": 1
    }
   ],
   "source": [
    "import pandas as pd\n",
    "data = pd.read_csv('p1_iris.csv', header=None)\n",
    "train = data.sample(round(len(data)*.1))\n",
    "test = data.drop(train.index).reset_index(drop=True)\n",
    "train = train.reset_index(drop=True)\n",
    "test"
   ]
  },
  {
   "source": [
    "Trying to see what the category had the largest distinction between the means by taking the mean of each type of flower. Then run a cross-tabulation of the ones that had the most difference. "
   ],
   "cell_type": "markdown",
   "metadata": {}
  },
  {
   "cell_type": "code",
   "execution_count": null,
   "metadata": {},
   "outputs": [],
   "source": [
    "data[data[4] == 'Iris-versicolor'].mean(axis=0)\n",
    "data[data[4] == 'Iris-virginica'].mean(axis=0)\n",
    "data[data[4] == 'Iris-setosa'].mean(axis=0)"
   ]
  },
  {
   "source": [
    "Columns 2 and 3 had the most variation between the three types of flowers so now I'm running a cross tabulation to see if either would work. "
   ],
   "cell_type": "markdown",
   "metadata": {}
  },
  {
   "cell_type": "code",
   "execution_count": 35,
   "metadata": {
    "tags": []
   },
   "outputs": [
    {
     "output_type": "execute_result",
     "data": {
      "text/plain": "4    Iris-setosa  Iris-versicolor  Iris-virginica\n3                                                \n0.1            6                0               0\n0.2           28                0               0\n0.3            7                0               0\n0.4            7                0               0\n0.5            1                0               0\n0.6            1                0               0\n1.0            0                7               0\n1.1            0                3               0\n1.2            0                5               0\n1.3            0               13               0\n1.4            0                7               1\n1.5            0               10               2\n1.6            0                3               1\n1.7            0                1               1\n1.8            0                1              11\n1.9            0                0               5\n2.0            0                0               6\n2.1            0                0               6\n2.2            0                0               3\n2.3            0                0               8\n2.4            0                0               3\n2.5            0                0               3",
      "text/html": "<div>\n<style scoped>\n    .dataframe tbody tr th:only-of-type {\n        vertical-align: middle;\n    }\n\n    .dataframe tbody tr th {\n        vertical-align: top;\n    }\n\n    .dataframe thead th {\n        text-align: right;\n    }\n</style>\n<table border=\"1\" class=\"dataframe\">\n  <thead>\n    <tr style=\"text-align: right;\">\n      <th>4</th>\n      <th>Iris-setosa</th>\n      <th>Iris-versicolor</th>\n      <th>Iris-virginica</th>\n    </tr>\n    <tr>\n      <th>3</th>\n      <th></th>\n      <th></th>\n      <th></th>\n    </tr>\n  </thead>\n  <tbody>\n    <tr>\n      <th>0.1</th>\n      <td>6</td>\n      <td>0</td>\n      <td>0</td>\n    </tr>\n    <tr>\n      <th>0.2</th>\n      <td>28</td>\n      <td>0</td>\n      <td>0</td>\n    </tr>\n    <tr>\n      <th>0.3</th>\n      <td>7</td>\n      <td>0</td>\n      <td>0</td>\n    </tr>\n    <tr>\n      <th>0.4</th>\n      <td>7</td>\n      <td>0</td>\n      <td>0</td>\n    </tr>\n    <tr>\n      <th>0.5</th>\n      <td>1</td>\n      <td>0</td>\n      <td>0</td>\n    </tr>\n    <tr>\n      <th>0.6</th>\n      <td>1</td>\n      <td>0</td>\n      <td>0</td>\n    </tr>\n    <tr>\n      <th>1.0</th>\n      <td>0</td>\n      <td>7</td>\n      <td>0</td>\n    </tr>\n    <tr>\n      <th>1.1</th>\n      <td>0</td>\n      <td>3</td>\n      <td>0</td>\n    </tr>\n    <tr>\n      <th>1.2</th>\n      <td>0</td>\n      <td>5</td>\n      <td>0</td>\n    </tr>\n    <tr>\n      <th>1.3</th>\n      <td>0</td>\n      <td>13</td>\n      <td>0</td>\n    </tr>\n    <tr>\n      <th>1.4</th>\n      <td>0</td>\n      <td>7</td>\n      <td>1</td>\n    </tr>\n    <tr>\n      <th>1.5</th>\n      <td>0</td>\n      <td>10</td>\n      <td>2</td>\n    </tr>\n    <tr>\n      <th>1.6</th>\n      <td>0</td>\n      <td>3</td>\n      <td>1</td>\n    </tr>\n    <tr>\n      <th>1.7</th>\n      <td>0</td>\n      <td>1</td>\n      <td>1</td>\n    </tr>\n    <tr>\n      <th>1.8</th>\n      <td>0</td>\n      <td>1</td>\n      <td>11</td>\n    </tr>\n    <tr>\n      <th>1.9</th>\n      <td>0</td>\n      <td>0</td>\n      <td>5</td>\n    </tr>\n    <tr>\n      <th>2.0</th>\n      <td>0</td>\n      <td>0</td>\n      <td>6</td>\n    </tr>\n    <tr>\n      <th>2.1</th>\n      <td>0</td>\n      <td>0</td>\n      <td>6</td>\n    </tr>\n    <tr>\n      <th>2.2</th>\n      <td>0</td>\n      <td>0</td>\n      <td>3</td>\n    </tr>\n    <tr>\n      <th>2.3</th>\n      <td>0</td>\n      <td>0</td>\n      <td>8</td>\n    </tr>\n    <tr>\n      <th>2.4</th>\n      <td>0</td>\n      <td>0</td>\n      <td>3</td>\n    </tr>\n    <tr>\n      <th>2.5</th>\n      <td>0</td>\n      <td>0</td>\n      <td>3</td>\n    </tr>\n  </tbody>\n</table>\n</div>"
     },
     "metadata": {},
     "execution_count": 35
    }
   ],
   "source": [
    "pd.crosstab([data[3]], data[4])"
   ]
  },
  {
   "source": [
    "The following cell is to train the decision tree on the entire dataset."
   ],
   "cell_type": "markdown",
   "metadata": {}
  },
  {
   "cell_type": "code",
   "execution_count": 46,
   "metadata": {},
   "outputs": [],
   "source": [
    "from sklearn import tree\n",
    "Y = data[4]\n",
    "X = data.drop([4],axis=1)\n",
    "clf = tree.DecisionTreeClassifier(criterion='entropy',max_depth=3)\n",
    "clf = clf.fit(X, Y)\n"
   ]
  },
  {
   "source": [
    "The following cell trains the decision tree on the training dataset. "
   ],
   "cell_type": "markdown",
   "metadata": {}
  },
  {
   "cell_type": "code",
   "execution_count": 113,
   "metadata": {},
   "outputs": [],
   "source": [
    "from sklearn import tree\n",
    "Y = train[4]\n",
    "X = train.drop([4],axis=1)\n",
    "clf = tree.DecisionTreeClassifier(criterion='entropy',max_depth=3)\n",
    "clf = clf.fit(X, Y)"
   ]
  },
  {
   "cell_type": "code",
   "execution_count": 114,
   "metadata": {},
   "outputs": [
    {
     "output_type": "execute_result",
     "data": {
      "image/png": "[encoded data removed]",
      "text/plain": "<IPython.core.display.Image object>"
     },
     "metadata": {},
     "execution_count": 114
    }
   ],
   "source": [
    "import pydotplus\n",
    "from IPython.display import Image\n",
    "dot_data = tree.export_graphviz(clf, feature_names=X.columns, class_names=['Iris-setosa','Iris-versicolor','Iris-virginica'], filled=True, out_file=None)\n",
    "graph = pydotplus.graph_from_dot_data(dot_data)\n",
    "Image(graph.create_png())\n"
   ]
  },
  {
   "cell_type": "code",
   "execution_count": 115,
   "metadata": {
    "tags": []
   },
   "outputs": [
    {
     "output_type": "execute_result",
     "data": {
      "text/plain": "                  4 Predicted Class\n0       Iris-setosa     Iris-setosa\n1       Iris-setosa     Iris-setosa\n2       Iris-setosa     Iris-setosa\n3       Iris-setosa     Iris-setosa\n4       Iris-setosa     Iris-setosa\n..              ...             ...\n130  Iris-virginica  Iris-virginica\n131  Iris-virginica  Iris-virginica\n132  Iris-virginica  Iris-virginica\n133  Iris-virginica  Iris-virginica\n134  Iris-virginica  Iris-virginica\n\n[135 rows x 2 columns]",
      "text/html": "<div>\n<style scoped>\n    .dataframe tbody tr th:only-of-type {\n        vertical-align: middle;\n    }\n\n    .dataframe tbody tr th {\n        vertical-align: top;\n    }\n\n    .dataframe thead th {\n        text-align: right;\n    }\n</style>\n<table border=\"1\" class=\"dataframe\">\n  <thead>\n    <tr style=\"text-align: right;\">\n      <th></th>\n      <th>4</th>\n      <th>Predicted Class</th>\n    </tr>\n  </thead>\n  <tbody>\n    <tr>\n      <th>0</th>\n      <td>Iris-setosa</td>\n      <td>Iris-setosa</td>\n    </tr>\n    <tr>\n      <th>1</th>\n      <td>Iris-setosa</td>\n      <td>Iris-setosa</td>\n    </tr>\n    <tr>\n      <th>2</th>\n      <td>Iris-setosa</td>\n      <td>Iris-setosa</td>\n    </tr>\n    <tr>\n      <th>3</th>\n      <td>Iris-setosa</td>\n      <td>Iris-setosa</td>\n    </tr>\n    <tr>\n      <th>4</th>\n      <td>Iris-setosa</td>\n      <td>Iris-setosa</td>\n    </tr>\n    <tr>\n      <th>...</th>\n      <td>...</td>\n      <td>...</td>\n    </tr>\n    <tr>\n      <th>130</th>\n      <td>Iris-virginica</td>\n      <td>Iris-virginica</td>\n    </tr>\n    <tr>\n      <th>131</th>\n      <td>Iris-virginica</td>\n      <td>Iris-virginica</td>\n    </tr>\n    <tr>\n      <th>132</th>\n      <td>Iris-virginica</td>\n      <td>Iris-virginica</td>\n    </tr>\n    <tr>\n      <th>133</th>\n      <td>Iris-virginica</td>\n      <td>Iris-virginica</td>\n    </tr>\n    <tr>\n      <th>134</th>\n      <td>Iris-virginica</td>\n      <td>Iris-virginica</td>\n    </tr>\n  </tbody>\n</table>\n<p>135 rows × 2 columns</p>\n</div>"
     },
     "metadata": {},
     "execution_count": 115
    }
   ],
   "source": [
    "testY = test[4]\n",
    "testX = test.drop([4],axis=1)\n",
    "predY = clf.predict(testX)\n",
    "\n",
    "predictions = pd.concat([testY ,pd.Series(predY,name='Predicted Class')], axis=1)\n",
    "predictions"
   ]
  },
  {
   "cell_type": "code",
   "execution_count": 116,
   "metadata": {
    "tags": []
   },
   "outputs": [
    {
     "output_type": "stream",
     "name": "stdout",
     "text": "Accuracy on test data is 0.96\n"
    }
   ],
   "source": [
    "from sklearn.metrics import accuracy_score\n",
    "print('Accuracy on test data is %.2f' % (accuracy_score(testY, predY)))"
   ]
  },
  {
   "source": [
    "Overall, the first exercise helped me to understand how to split a pandas dataframe into training data and testing data. Through experimenting with different splits of the data, I found that the best training split was 10% training and 90% testing. When the split was lower than 5% for training the amount of randomness in the guesses increased and the accuracy score dropped to around 50%-60%. It was interesting to me that by looking at the means, I could visually verify the splits in the data. I have a feeling that if the size of the dataset were to be increased I would need to find a better method as trying to look for splits with a higher number of variables could become quite tedious.  "
   ],
   "cell_type": "markdown",
   "metadata": {}
  },
  {
   "cell_type": "code",
   "execution_count": 2,
   "metadata": {
    "tags": []
   },
   "outputs": [
    {
     "output_type": "execute_result",
     "data": {
      "text/plain": [
       "           WC_TA     RE_TA   EBIT_TA  MVE_BVTD      S_TA  Industry\n",
       "Rating                                                            \n",
       "A       0.186911  0.322590  0.058837  1.827097  0.328040  6.582609\n",
       "AA      0.218304  0.395281  0.062390  2.698501  0.408013  6.355844\n",
       "AAA     0.306759  0.592202  0.075445  7.271379  0.662560  6.372414\n",
       "B      -0.004247 -0.126550  0.029762  0.351594  0.143775  6.365625\n",
       "BB      0.074024  0.078773  0.043400  0.598366  0.177581  6.425027\n",
       "BBB     0.141806  0.217885  0.053185  1.083015  0.248696  6.273892\n",
       "CCC    -0.209169 -0.916400 -0.020146  0.169654  0.113492  6.446154"
      ],
      "text/html": "<div>\n<style scoped>\n    .dataframe tbody tr th:only-of-type {\n        vertical-align: middle;\n    }\n\n    .dataframe tbody tr th {\n        vertical-align: top;\n    }\n\n    .dataframe thead th {\n        text-align: right;\n    }\n</style>\n<table border=\"1\" class=\"dataframe\">\n  <thead>\n    <tr style=\"text-align: right;\">\n      <th></th>\n      <th>WC_TA</th>\n      <th>RE_TA</th>\n      <th>EBIT_TA</th>\n      <th>MVE_BVTD</th>\n      <th>S_TA</th>\n      <th>Industry</th>\n    </tr>\n    <tr>\n      <th>Rating</th>\n      <th></th>\n      <th></th>\n      <th></th>\n      <th></th>\n      <th></th>\n      <th></th>\n    </tr>\n  </thead>\n  <tbody>\n    <tr>\n      <th>A</th>\n      <td>0.186911</td>\n      <td>0.322590</td>\n      <td>0.058837</td>\n      <td>1.827097</td>\n      <td>0.328040</td>\n      <td>6.582609</td>\n    </tr>\n    <tr>\n      <th>AA</th>\n      <td>0.218304</td>\n      <td>0.395281</td>\n      <td>0.062390</td>\n      <td>2.698501</td>\n      <td>0.408013</td>\n      <td>6.355844</td>\n    </tr>\n    <tr>\n      <th>AAA</th>\n      <td>0.306759</td>\n      <td>0.592202</td>\n      <td>0.075445</td>\n      <td>7.271379</td>\n      <td>0.662560</td>\n      <td>6.372414</td>\n    </tr>\n    <tr>\n      <th>B</th>\n      <td>-0.004247</td>\n      <td>-0.126550</td>\n      <td>0.029762</td>\n      <td>0.351594</td>\n      <td>0.143775</td>\n      <td>6.365625</td>\n    </tr>\n    <tr>\n      <th>BB</th>\n      <td>0.074024</td>\n      <td>0.078773</td>\n      <td>0.043400</td>\n      <td>0.598366</td>\n      <td>0.177581</td>\n      <td>6.425027</td>\n    </tr>\n    <tr>\n      <th>BBB</th>\n      <td>0.141806</td>\n      <td>0.217885</td>\n      <td>0.053185</td>\n      <td>1.083015</td>\n      <td>0.248696</td>\n      <td>6.273892</td>\n    </tr>\n    <tr>\n      <th>CCC</th>\n      <td>-0.209169</td>\n      <td>-0.916400</td>\n      <td>-0.020146</td>\n      <td>0.169654</td>\n      <td>0.113492</td>\n      <td>6.446154</td>\n    </tr>\n  </tbody>\n</table>\n</div>"
     },
     "metadata": {},
     "execution_count": 2
    }
   ],
   "source": [
    "import pandas as pd\n",
    "import numpy as np\n",
    "from matplotlib import pyplot as plt\n",
    "data = pd.read_csv('p1_credit_data.csv')\n",
    "data = data.drop('ID', axis=1)\n",
    "data.groupby('Rating').mean()"
   ]
  },
  {
   "source": [
    "Visual analysis of the means show that MVE_BVTD and WC_TA would have the best discrimation between categories, followed by S_TA.\n",
    "\n",
    "The following cell attempts to find optimal values for what the depth should be for the decision tree, as well as what the split of training data should be. This of course is a very brute force way of finding what these values should be and in practice there is likely a much better way of accomplishing this task. \n",
    "\n",
    "The logic is that the data is split in increments of 5% up to a total of 80% and then a decision tree is built based on a set of pre-defined depths to see what could be a good amount of training data and what the depth of the tree should be. I chose to stay under 80% of a data split as I believe that using more than that could be potentially overfitting the model to this dataset. After running it multiple times I found that the best parameters for the model are as follows:\n",
    "\n",
    "% Training Data => 25\n",
    "\n",
    "Tree Max Depth => 5\n"
   ],
   "cell_type": "markdown",
   "metadata": {}
  },
  {
   "cell_type": "code",
   "execution_count": 373,
   "metadata": {
    "tags": []
   },
   "outputs": [
    {
     "output_type": "stream",
     "name": "stdout",
     "text": "5% training data 48.38% accuracy 3 depth\n5% training data 65.57% accuracy 4 depth\n5% training data 66.37% accuracy 5 depth\n10% training data 66.60% accuracy 4 depth\n10% training data 67.65% accuracy 5 depth\n15% training data 68.34% accuracy 4 depth\n15% training data 68.43% accuracy 5 depth\n20% training data 68.91% accuracy 7 depth\n25% training data 71.18% accuracy 3 depth\n25% training data 71.31% accuracy 5 depth\n30% training data 72.71% accuracy 5 depth\n75% training data 74.97% accuracy 6 depth\n"
    }
   ],
   "source": [
    "from sklearn.metrics import accuracy_score\n",
    "from sklearn import tree\n",
    "percent = 0\n",
    "current_acc = 0\n",
    "best_params = []\n",
    "depths = [3,4, 5,6,7,8,10,12,15,20]\n",
    "\n",
    "for i in range(16):\n",
    "    percent += .05\n",
    "    train = data.sample(round(len(data)*percent))\n",
    "    test = data.drop(train.index).reset_index(drop=True)\n",
    "    train = train.reset_index(drop=True)\n",
    "\n",
    "    for depth in depths: \n",
    "        Y = train['Rating']\n",
    "        X = train.drop(['Rating'],axis=1)\n",
    "        clf = tree.DecisionTreeClassifier(criterion='gini',max_depth=depth, class_weight='balanced')\n",
    "        clf = clf.fit(X, Y)\n",
    "        testY = test['Rating']\n",
    "        testX = test.drop(['Rating'],axis=1)\n",
    "        predY = clf.predict(testX)\n",
    "        predictions = pd.concat([testY ,pd.Series(predY,name='Predicted Class')], axis=1)\n",
    "        acc = accuracy_score(testY, predY)\n",
    "        if acc > current_acc:\n",
    "            current_acc = acc\n",
    "            best_params.append((percent, acc, depth))\n",
    "\n",
    "for row in best_params:\n",
    "    print('{:0.0f}% training data {:0.2f}% accuracy {:0.0f} depth'.format(row[0]*100,row[1]*100,row[2]))"
   ]
  },
  {
   "source": [
    "The following cell creates a model built with the parameters that were found with the brute force appproach above with another random sample of the dataset. It then launches a new window to show a picture with the decision tree that was built. I chose to do this because it would allow me to more closely examine the tree and save it if I wanted to. "
   ],
   "cell_type": "markdown",
   "metadata": {}
  },
  {
   "cell_type": "code",
   "execution_count": 3,
   "metadata": {},
   "outputs": [],
   "source": [
    "import pydotplus\n",
    "import PIL.Image as Image\n",
    "import io\n",
    "from sklearn import tree\n",
    "\n",
    "train = data.sample(round(len(data)*.25))\n",
    "test = data.drop(train.index).reset_index(drop=True)\n",
    "train = train.reset_index(drop=True)\n",
    "\n",
    "\n",
    "Y = train['Rating']\n",
    "X = train.drop(['Rating'],axis=1)\n",
    "clf = tree.DecisionTreeClassifier(criterion='entropy',max_depth=5)\n",
    "clf = clf.fit(X, Y)\n",
    "dot_data = tree.export_graphviz(clf, feature_names=X.columns, class_names=list(train['Rating'].unique()), filled=True, out_file=None)\n",
    "graph = pydotplus.graph_from_dot_data(dot_data)\n",
    "\n",
    "# used this library instead so I could open the image larger \n",
    "img = Image.open(io.BytesIO(graph.create_png()))\n",
    "img.show()"
   ]
  },
  {
   "source": [
    "The following cell test the trained model on the testing data and prints the accuracy along with the predictions. "
   ],
   "cell_type": "markdown",
   "metadata": {}
  },
  {
   "cell_type": "code",
   "execution_count": 4,
   "metadata": {},
   "outputs": [
    {
     "output_type": "stream",
     "name": "stdout",
     "text": [
      "Accuracy on test data is 0.71\n"
     ]
    },
    {
     "output_type": "execute_result",
     "data": {
      "text/plain": [
       "     Rating Predicted Class\n",
       "0        BB              BB\n",
       "1         A               A\n",
       "2         A               A\n",
       "3       BBB             BBB\n",
       "4       AAA             AAA\n",
       "...     ...             ...\n",
       "2944     AA              AA\n",
       "2945    BBB             BBB\n",
       "2946    BBB             BBB\n",
       "2947     BB              BB\n",
       "2948     AA              AA\n",
       "\n",
       "[2949 rows x 2 columns]"
      ],
      "text/html": "<div>\n<style scoped>\n    .dataframe tbody tr th:only-of-type {\n        vertical-align: middle;\n    }\n\n    .dataframe tbody tr th {\n        vertical-align: top;\n    }\n\n    .dataframe thead th {\n        text-align: right;\n    }\n</style>\n<table border=\"1\" class=\"dataframe\">\n  <thead>\n    <tr style=\"text-align: right;\">\n      <th></th>\n      <th>Rating</th>\n      <th>Predicted Class</th>\n    </tr>\n  </thead>\n  <tbody>\n    <tr>\n      <th>0</th>\n      <td>BB</td>\n      <td>BB</td>\n    </tr>\n    <tr>\n      <th>1</th>\n      <td>A</td>\n      <td>A</td>\n    </tr>\n    <tr>\n      <th>2</th>\n      <td>A</td>\n      <td>A</td>\n    </tr>\n    <tr>\n      <th>3</th>\n      <td>BBB</td>\n      <td>BBB</td>\n    </tr>\n    <tr>\n      <th>4</th>\n      <td>AAA</td>\n      <td>AAA</td>\n    </tr>\n    <tr>\n      <th>...</th>\n      <td>...</td>\n      <td>...</td>\n    </tr>\n    <tr>\n      <th>2944</th>\n      <td>AA</td>\n      <td>AA</td>\n    </tr>\n    <tr>\n      <th>2945</th>\n      <td>BBB</td>\n      <td>BBB</td>\n    </tr>\n    <tr>\n      <th>2946</th>\n      <td>BBB</td>\n      <td>BBB</td>\n    </tr>\n    <tr>\n      <th>2947</th>\n      <td>BB</td>\n      <td>BB</td>\n    </tr>\n    <tr>\n      <th>2948</th>\n      <td>AA</td>\n      <td>AA</td>\n    </tr>\n  </tbody>\n</table>\n<p>2949 rows × 2 columns</p>\n</div>"
     },
     "metadata": {},
     "execution_count": 4
    }
   ],
   "source": [
    "testY = test['Rating']\n",
    "testX = test.drop(['Rating'],axis=1)\n",
    "predY = clf.predict(testX)\n",
    "\n",
    "from sklearn.metrics import accuracy_score\n",
    "print('Accuracy on test data is %.2f' % (accuracy_score(testY, predY)))\n",
    "\n",
    "predictions = pd.concat([testY ,pd.Series(predY,name='Predicted Class')], axis=1)\n",
    "predictions\n"
   ]
  },
  {
   "source": [
    "In the following cell I tried another approach of using a classification tree, by using a random forest. I reserved 10% of the data for testing and trained the model on the remainder of the data. With this method, I was able to achieve the highest accuracy of any of my experiments ranging from 70-80% accuarcy on the reserved data."
   ],
   "cell_type": "markdown",
   "metadata": {}
  },
  {
   "cell_type": "code",
   "execution_count": 25,
   "metadata": {
    "tags": []
   },
   "outputs": [
    {
     "output_type": "stream",
     "name": "stdout",
     "text": "Accuracy on test data is 0.78\n"
    }
   ],
   "source": [
    "from sklearn.ensemble import RandomForestClassifier\n",
    "\n",
    "test_data = data.sample(frac=.10) #save 10% of data for testing\n",
    "train = data.drop(test_data.index).reset_index(drop=True) #remove the training data \n",
    "test_data = test_data.reset_index(drop=True) \n",
    "train = train.sample(frac=1) #shuffle the testing data\n",
    "\n",
    "Y = train['Rating']\n",
    "X = train.drop(['Rating'],axis=1)\n",
    "clf = RandomForestClassifier(n_estimators=100, criterion='entropy', warm_start=True) #use the average of 100 trees \n",
    "\n",
    "clf = clf.fit(X, Y)\n",
    "\n",
    "testY = test_data['Rating']\n",
    "testX = test_data.drop(['Rating'],axis=1)\n",
    "predY = clf.predict(testX)\n",
    "\n",
    "predictions = pd.concat([testY ,pd.Series(predY,name='Predicted Class')], axis=1)\n",
    "from sklearn.metrics import accuracy_score\n",
    "print('Accuracy on test data is %.2f' % (accuracy_score(testY, predY)))"
   ]
  },
  {
   "source": [
    "In the following block, I tried to seperate the data into chunks and train a random forest tree classifier with each chunk. I first reserved 10% of the data to test the model after all of the training was complete. I then looped through each chunk of the data and trained on 1/nth of the data and tested on n-1/n of the remaining data splits. On each iteration of the training, I print the overall accuracy of the model. I found that initializing the model with 100 estimators and keeping the total depth of the model to 8 nodes deep produced the best accuracy for the final model. Without explicitly declaring the maximum depth, I believe that the model was becoming over fitted. With these parameters, I was able to get an average accuracy of around 75% on the reserved training data. \n",
    "\n",
    "After running it several times, I noticed that the accuracy of the model increased every time the model trained on the training splits but the final accuracy of the model did not increase. "
   ],
   "cell_type": "markdown",
   "metadata": {}
  },
  {
   "cell_type": "code",
   "execution_count": 48,
   "metadata": {
    "tags": []
   },
   "outputs": [
    {
     "output_type": "stream",
     "name": "stdout",
     "text": "Accuracy on test data is 73.89%\nAccuracy on test data is 80.92%\nAccuracy on test data is 83.26%\nAccuracy on the reserved data 76.08%\n"
    }
   ],
   "source": [
    "import pydotplus\n",
    "import PIL.Image as Image\n",
    "import io\n",
    "from sklearn import tree\n",
    "from sklearn.ensemble import RandomForestClassifier\n",
    "from sklearn.metrics import accuracy_score\n",
    "\n",
    "# reserve 10 % for testing \n",
    "test_data = data.sample(frac=.1)\n",
    "\n",
    "train = data.drop(test_data.index).reset_index(drop=True)\n",
    "train = train.sample(frac=1) #this is just to shuffle the remaining data more\n",
    "\n",
    "num_sets = 3 # split the remaining data into num_sets \n",
    "training_sets = [] \n",
    "for g, df in train.groupby(np.arange(len(train)) // (len(train)/num_sets)):\n",
    "    training_sets.append(df)\n",
    "\n",
    "\n",
    "clf = RandomForestClassifier(n_estimators=100, criterion='gini', warm_start=True, max_depth=8) #init the model \n",
    "\n",
    "splits = [[j for j in range(len(training_sets)) if j != i] for i in range(len(training_sets))] # make the splits for training vs testing\n",
    "\n",
    "# train on outer loop, test against the rest\n",
    "for i in range(len(training_sets)):\n",
    "    Y = training_sets[i]['Rating']\n",
    "    X = training_sets[i].drop(['Rating'],axis=1)\n",
    "    clf = clf.fit(X, Y)\n",
    "    test_df = pd.DataFrame(columns=training_sets[i].columns)\n",
    "    clf.n_estimators += 10\n",
    "    # build the testing dataset\n",
    "    for j in splits[i]:\n",
    "        test_df =test_df.append(training_sets[j])\n",
    "\n",
    "    testY = test_df['Rating']\n",
    "    testX = test_df.drop(['Rating'],axis=1)\n",
    "    predY = clf.predict(testX)\n",
    "    print('Accuracy on test data is {:.2f}%'.format(accuracy_score(testY, predY)*100))\n",
    "\n",
    "\n",
    "testY = test_data['Rating']\n",
    "testX = test_data.drop(['Rating'],axis=1)\n",
    "predY = clf.predict(testX)\n",
    "print('Accuracy on the reserved data {:.2f}%'.format(accuracy_score(testY, predY)*100))\n",
    "# grab one of the trees to visualize \n",
    "estimator = clf.estimators_[-1]\n",
    "dot_data = tree.export_graphviz(estimator, feature_names=X.columns, class_names=list(train['Rating'].unique()), filled=True, out_file=None)\n",
    "graph = pydotplus.graph_from_dot_data(dot_data)\n",
    "\n",
    "# used this library instead so I could open the image larger \n",
    "img = Image.open(io.BytesIO(graph.create_png()))\n",
    "img.show()"
   ]
  },
  {
   "source": [
    "Just as a final analysis, I believe there wasn't significant benefit from going through the hassle of splitting the data into separate chunks. The accuracy of a random forest model was higher when that model was just trained on all of the training data at once. I believe this is likely due to the fact that the model written for sklearn takes many random samples from the population to train. When the model is fed a larger sample to train from, it will be able to produce a more accurate final model. There may be an alternative route or other parameters of the model that could have been fine tuned to produce a higher accuarcy on the model, but I couldn't think of any. "
   ],
   "cell_type": "markdown",
   "metadata": {}
  }
 ]
}